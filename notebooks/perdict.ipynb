{
 "cells": [
  {
   "cell_type": "code",
   "execution_count": 37,
   "id": "08498030-a493-4300-88b5-a470dd99ba9b",
   "metadata": {},
   "outputs": [],
   "source": [
    "import pandas as pd\n",
    "import numpy as np\n",
    "from scipy.stats import skew, kurtosis\n",
    "from scipy.fftpack import fft\n",
    "from scipy.signal import find_peaks\n",
    "\n",
    "import warnings\n",
    "warnings.filterwarnings(\"ignore\", category=RuntimeWarning)\n",
    "\n",
    "import joblib\n",
    "\n",
    "from sklearn.preprocessing import StandardScaler"
   ]
  },
  {
   "cell_type": "code",
   "execution_count": 10,
   "id": "8aef2a45-e93b-4577-a854-db21e633335d",
   "metadata": {},
   "outputs": [],
   "source": [
    "import pickle\n",
    "\n",
    "with open('features.pkl', 'rb') as f:\n",
    "    loaded_features_list = pickle.load(f)"
   ]
  },
  {
   "cell_type": "code",
   "execution_count": 11,
   "id": "7321094c-6102-44cd-985f-0e897527da03",
   "metadata": {},
   "outputs": [],
   "source": [
    "test_df = pd.read_parquet('../data/test.parquet')"
   ]
  },
  {
   "cell_type": "code",
   "execution_count": 12,
   "id": "760c8613-9ca7-4543-b059-fa9ab2b0d00e",
   "metadata": {},
   "outputs": [],
   "source": [
    "def fillna_in_lists(column):\n",
    "    def fill_list(lst):\n",
    "        if isinstance(lst, list):\n",
    "            clean_lst = [x for x in lst if pd.notnull(x)]  \n",
    "            if len(clean_lst) > 0:\n",
    "                median_value = np.median(clean_lst)  \n",
    "                return [x if pd.notnull(x) else median_value for x in lst]  \n",
    "            else:\n",
    "                return [0]*len(lst) \n",
    "        return lst  \n",
    "    return column.apply(fill_list)"
   ]
  },
  {
   "cell_type": "code",
   "execution_count": 13,
   "id": "28e31c66-b048-4cc6-9ed0-d0b16455bfc4",
   "metadata": {},
   "outputs": [],
   "source": [
    "test_df['values'] = fillna_in_lists(test_df['values'])"
   ]
  },
  {
   "cell_type": "markdown",
   "id": "c3de7598-28e2-496f-9cb1-ec5dcdf51d5e",
   "metadata": {},
   "source": [
    "### Generate features"
   ]
  },
  {
   "cell_type": "code",
   "execution_count": 14,
   "id": "4eb980b5-78e3-40a8-9be5-e65f19890b75",
   "metadata": {},
   "outputs": [
    {
     "data": {
      "text/plain": [
       "['mean',\n",
       " 'median_value',\n",
       " 'q1_value',\n",
       " 'kurtosis_value',\n",
       " 'peaks_value',\n",
       " 'autocorr_sign',\n",
       " 'mean_amplitude']"
      ]
     },
     "execution_count": 14,
     "metadata": {},
     "output_type": "execute_result"
    }
   ],
   "source": [
    "loaded_features_list"
   ]
  },
  {
   "cell_type": "code",
   "execution_count": 28,
   "id": "a3ce133d-6b18-49af-8dac-cff2e0496ab3",
   "metadata": {},
   "outputs": [],
   "source": [
    "def detect_autocorrelation(data, lag=1, threshold=0.5):\n",
    "    \"\"\"\n",
    "    1 - положительная автокорреляция выше порога,\n",
    "    0 - автокорреляции нет,\n",
    "    -1 - отрицательная автокорреляция ниже порога.\n",
    "    \"\"\"\n",
    "    data_copy = data.copy()\n",
    "    \n",
    "    def autocorr_classification(x, lag, threshold):\n",
    "        x_array = np.array(x)\n",
    "        \n",
    "        if np.std(x_array) == 0:\n",
    "            return 0  \n",
    "        else:\n",
    "            autocorr_value = pd.Series(x_array).autocorr(lag=lag)\n",
    "            if autocorr_value > threshold:\n",
    "                return 1 \n",
    "            elif autocorr_value < -threshold:\n",
    "                return -1  \n",
    "            else:\n",
    "                return 0  \n",
    "\n",
    "    data_copy['autocorr_sign'] = data_copy['values'].apply(lambda x: autocorr_classification(x, lag, threshold))\n",
    "    \n",
    "    return data_copy\n",
    "\n",
    "\n",
    "def extract_features(data):\n",
    "    data_copy = data.copy()\n",
    "    def calculate_amplitude(group):\n",
    "        time_series = group['values'] \n",
    "        fft_values = np.fft.rfft(time_series)\n",
    "        amplitude = np.abs(fft_values) // 2\n",
    "        \n",
    "        group['mean_amplitude'] = np.mean(amplitude)\n",
    "        return group\n",
    "    \n",
    "    \n",
    "    data_copy['mean_amplitude'] = data_copy['values'].apply(lambda x: np.mean(np.abs(np.fft.rfft(x)) // 2))\n",
    "    \n",
    "    return data_copy\n",
    "\n",
    "\n",
    "def fill_missing_values_with_median(data, feature):\n",
    "    data_filled = data.copy()\n",
    "    \n",
    "    for label in data_filled['label'].unique():\n",
    "        median_value = data_filled[data_filled['label'] == label][feature].apply(\n",
    "            lambda x: np.median(x) if isinstance(x, (list, np.ndarray)) and len(x) > 0 else 0\n",
    "        ).median()\n",
    "        \n",
    "        data_filled.loc[data_filled['label'] == label, feature] = data_filled.loc[data_filled['label'] == label, feature].apply(\n",
    "            lambda x: [median_value if v is None else v for v in x] if isinstance(x, (list, np.ndarray)) else x\n",
    "        )\n",
    "    \n",
    "    return data_filled"
   ]
  },
  {
   "cell_type": "code",
   "execution_count": 22,
   "id": "dacfbf87-9990-4aab-90ac-6a02700ea50e",
   "metadata": {},
   "outputs": [],
   "source": [
    "stat_features = {}\n",
    "\n",
    "stat_features['mean'] = test_df['values'].apply(np.mean)\n",
    "stat_features['median_value'] = test_df['values'].apply(np.median)\n",
    "stat_features['q1_value'] = test_df['values'].apply(lambda x: np.percentile(x, 25))\n",
    "stat_features['kurtosis_value'] = test_df['values'].apply(kurtosis)\n",
    "stat_features['peaks_value'] = test_df['values'].apply(lambda x: len(find_peaks(x)[0]))\n",
    "    \n",
    "stat_features_df = pd.DataFrame(stat_features)"
   ]
  },
  {
   "cell_type": "code",
   "execution_count": 25,
   "id": "a9a456c3-c4fd-4a52-a4f3-ce99106adc78",
   "metadata": {},
   "outputs": [],
   "source": [
    "autocorr_test = detect_autocorrelation(test_df, lag=1, threshold=0.3)\n",
    "merged_test_df = stat_features_df.join(autocorr_test[['autocorr_sign']])\n",
    "merged_test_df['autocorr_sign'] = merged_test_df['autocorr_sign'].replace(-1, 0)"
   ]
  },
  {
   "cell_type": "code",
   "execution_count": 30,
   "id": "f12a4e51-be4a-429e-b968-0503808b4aa8",
   "metadata": {},
   "outputs": [],
   "source": [
    "test_df_amplit = extract_features(test_df)\n",
    "merged_test_df_fd = merged_test_df.merge(test_df_amplit[['mean_amplitude']], left_index=True, right_index=True, how='left')\n",
    "merged_test_df_fd = merged_test_df_fd.fillna(0)"
   ]
  },
  {
   "cell_type": "code",
   "execution_count": 40,
   "id": "98130562-5ef3-4baa-b18d-7b3b48a9a7cc",
   "metadata": {},
   "outputs": [],
   "source": [
    "final_test_df = test_df[['id']].merge(merged_test_df_fd, left_index=True, right_index=True, how='left')\n",
    "scaler = StandardScaler()\n",
    "\n",
    "scaled_test = scaler.fit_transform(final_test_df.drop(columns=['id']))  \n",
    "\n",
    "scaled_test_df = pd.DataFrame(scaled_test, columns=loaded_features_list) "
   ]
  },
  {
   "cell_type": "code",
   "execution_count": 34,
   "id": "25178c10-f84c-45c4-8d5d-ed80eed40a79",
   "metadata": {},
   "outputs": [],
   "source": [
    "clf_loaded = joblib.load('stacking_classifier_model.pkl')"
   ]
  },
  {
   "cell_type": "code",
   "execution_count": 41,
   "id": "8b02cbcb-8d2b-4b36-a376-027f88c348e2",
   "metadata": {},
   "outputs": [
    {
     "name": "stdout",
     "output_type": "stream",
     "text": [
      "Файл submission.csv успешно создан!\n"
     ]
    }
   ],
   "source": [
    "y_test_pred_prob = clf_loaded.predict_proba(scaled_test_df)[:, 1]\n",
    "\n",
    "submission = pd.DataFrame({\n",
    "    'id': test_df['id'],  \n",
    "    'score': y_test_pred_prob   \n",
    "})\n",
    "\n",
    "submission.to_csv('submission.csv', index=False)\n",
    "\n",
    "print(\"Файл submission.csv успешно создан!\")"
   ]
  },
  {
   "cell_type": "code",
   "execution_count": null,
   "id": "2bf8a627-0891-449f-aa02-4e9541b05865",
   "metadata": {},
   "outputs": [],
   "source": []
  }
 ],
 "metadata": {
  "kernelspec": {
   "display_name": "Python 3 (ipykernel)",
   "language": "python",
   "name": "python3"
  },
  "language_info": {
   "codemirror_mode": {
    "name": "ipython",
    "version": 3
   },
   "file_extension": ".py",
   "mimetype": "text/x-python",
   "name": "python",
   "nbconvert_exporter": "python",
   "pygments_lexer": "ipython3",
   "version": "3.10.12"
  }
 },
 "nbformat": 4,
 "nbformat_minor": 5
}
